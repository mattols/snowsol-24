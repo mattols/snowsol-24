{
 "cells": [
  {
   "cell_type": "code",
   "execution_count": 26,
   "id": "24e7a658-a368-4c46-af8f-0a3289bd4759",
   "metadata": {},
   "outputs": [],
   "source": [
    "# load packages\n",
    "from smrf.data.load_topo import Topo\n",
    "# smrf data gridded_input.py\n",
    "\n",
    "# import smrf\n",
    "from smrf.envphys.solar import twostream\n",
    "from smrf.envphys.solar import model\n",
    "\n",
    "import pandas as pd\n",
    "\n",
    "from datetime import datetime"
   ]
  },
  {
   "cell_type": "code",
   "execution_count": 25,
   "id": "c4f00ba4-00e5-49b9-b4d1-f9272d5060f6",
   "metadata": {},
   "outputs": [],
   "source": [
    "# physics is envphys\n",
    "# solar\n",
    "# twostream.py\n",
    "\n"
   ]
  },
  {
   "cell_type": "code",
   "execution_count": 6,
   "id": "6603cd09-b598-4a5d-99ba-a0f313e8fcfa",
   "metadata": {},
   "outputs": [],
   "source": [
    "\n",
    "# cosZ & s0 - direct beam irradiance\n",
    "# twostream.twostream()\n"
   ]
  },
  {
   "cell_type": "code",
   "execution_count": 15,
   "id": "e85aaec5-59de-4a75-95fc-6c4ad3eff958",
   "metadata": {},
   "outputs": [
    {
     "data": {
      "text/plain": [
       "<smrf.data.load_topo.Topo at 0x7f9a6a1999d0>"
      ]
     },
     "execution_count": 15,
     "metadata": {},
     "output_type": "execute_result"
    }
   ],
   "source": [
    "# DEM\n",
    "topoconfig = {}\n",
    "topoconfig['filename'] = \"/uufs/chpc.utah.edu/common/home/u1037042/Documents/isnobal_data/toponc_ERW/topo.nc\"\n",
    "topoconfig['northern_hemisphere'] = True\n",
    "topoconfig['sky_view_factor_angles'] = 16\n",
    "topoconfig['gradient_method'] = 'gradient_d8'\n",
    "# smrf framework > coreConfig.ini\n",
    "dem = Topo(topoconfig)\n",
    "dem"
   ]
  },
  {
   "cell_type": "code",
   "execution_count": 29,
   "id": "24fa374f-236a-4881-ac42-231d306c6c60",
   "metadata": {},
   "outputs": [
    {
     "data": {
      "text/plain": [
       "38.8766633872778"
      ]
     },
     "execution_count": 29,
     "metadata": {},
     "output_type": "execute_result"
    }
   ],
   "source": [
    "\n",
    "lat = dem.basin_lat\n",
    "lon = dem.basin_long\n",
    "lat\n"
   ]
  },
  {
   "cell_type": "code",
   "execution_count": 28,
   "id": "7f41db96-7aa2-48be-8bce-63634e5f11bd",
   "metadata": {},
   "outputs": [
    {
     "data": {
      "text/plain": [
       "array([388.7164193])"
      ]
     },
     "execution_count": 28,
     "metadata": {},
     "output_type": "execute_result"
    }
   ],
   "source": [
    "dt = \"2022-03-25 15:00:00 -0700\"\n",
    "dt = pd.to_datetime(dt)\n",
    "m = model.model_solar(dt, lat, lon)\n",
    "m"
   ]
  },
  {
   "cell_type": "code",
   "execution_count": 30,
   "id": "9fe7f7b4-62ba-4b3e-9a7a-bfa0c947c534",
   "metadata": {},
   "outputs": [
    {
     "data": {
      "text/plain": [
       "array([388.73870123])"
      ]
     },
     "execution_count": 30,
     "metadata": {},
     "output_type": "execute_result"
    }
   ],
   "source": [
    "lat2 = lat - 0.001\n",
    "lon2 = lon + 0.001\n",
    "m2 = model.model_solar(dt, lat2, lon2)\n",
    "m2"
   ]
  },
  {
   "cell_type": "code",
   "execution_count": null,
   "id": "3d6d9a92-c528-43e0-bf67-a58234b790b9",
   "metadata": {},
   "outputs": [],
   "source": [
    "# hrrr solar\n",
    "# model "
   ]
  }
 ],
 "metadata": {
  "kernelspec": {
   "display_name": "Python [conda env:isnoda2]",
   "language": "python",
   "name": "conda-env-isnoda2-py"
  },
  "language_info": {
   "codemirror_mode": {
    "name": "ipython",
    "version": 3
   },
   "file_extension": ".py",
   "mimetype": "text/x-python",
   "name": "python",
   "nbconvert_exporter": "python",
   "pygments_lexer": "ipython3",
   "version": "3.7.12"
  }
 },
 "nbformat": 4,
 "nbformat_minor": 5
}
