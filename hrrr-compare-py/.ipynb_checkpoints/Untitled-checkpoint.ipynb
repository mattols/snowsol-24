{
 "cells": [
  {
   "cell_type": "code",
   "execution_count": null,
   "id": "b78bcf44-53cc-45c9-8bd7-6b43901a44aa",
   "metadata": {},
   "outputs": [],
   "source": [
    "# read in original HRRR data\n",
    "hrrr_2022_base = '/uufs/chpc.utah.edu/common/home/skiles-group1/erw_isnobal/wy2022/erw_hrrr_solar/'\n",
    "\n",
    "\n",
    "HRRR_solar_0 = xr.open_mfdataset(\n",
    "    f'{SHARED_STORE}/erw_isnobal/{water_year}/erw_hrrr_solar/run*/net_solar.nc',\n",
    "    parallel=True, chunks={'time': 24}, # 'y' :10, 'x': 10},\n",
    "    drop_variables=['DSWRF', 'illumination_angle', 'zenith', 'azimuth', 'albedo_vis', 'albedo_ir'],\n",
    ")\n",
    "\n"
   ]
  }
 ],
 "metadata": {
  "kernelspec": {
   "display_name": "Python [conda env:snow_viz]",
   "language": "python",
   "name": "conda-env-snow_viz-py"
  },
  "language_info": {
   "codemirror_mode": {
    "name": "ipython",
    "version": 3
   },
   "file_extension": ".py",
   "mimetype": "text/x-python",
   "name": "python",
   "nbconvert_exporter": "python",
   "pygments_lexer": "ipython3",
   "version": "3.12.5"
  }
 },
 "nbformat": 4,
 "nbformat_minor": 5
}
