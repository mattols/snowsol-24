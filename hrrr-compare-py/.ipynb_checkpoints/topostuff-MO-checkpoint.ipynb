{
 "cells": [
  {
   "cell_type": "code",
   "execution_count": 7,
   "id": "f8a9988c-2edc-40e3-80fb-3f52e0a84e62",
   "metadata": {},
   "outputs": [],
   "source": [
    "from snobedo.input import SmrfTopo"
   ]
  },
  {
   "cell_type": "code",
   "execution_count": 28,
   "id": "260becd5-86fa-49a8-8fa8-e2823aa57394",
   "metadata": {},
   "outputs": [
    {
     "data": {
      "text/plain": [
       "<snobedo.input.smrf_topo.SmrfTopo at 0x7ffaa97a50f0>"
      ]
     },
     "execution_count": 28,
     "metadata": {},
     "output_type": "execute_result"
    }
   ],
   "source": [
    "# dem\n",
    "# # /uufs/chpc.utah.edu/common/home/u1037042/Documents/isnobal_data\n",
    "#\n",
    "# d = \"/uufs/chpc.utah.edu/common/home/skiles-group1/jmeyer/project-data/iSnobal/ERW/topo/basin_setup/topo.nc\"\n",
    "d = \"/uufs/chpc.utah.edu/common/home/u1037042/Documents/isnobal_data/toponc_ERW/topo.nc\"\n",
    "xd2 = SmrfTopo(d)\n",
    "xd2"
   ]
  },
  {
   "cell_type": "code",
   "execution_count": 29,
   "id": "69d3f585-b615-4f75-a739-57efa53fe5fa",
   "metadata": {},
   "outputs": [
    {
     "name": "stdout",
     "output_type": "stream",
     "text": [
      "PROJCS[\"WGS84/UTMzone13N\",\n",
      "    GEOGCS[\"WGS84\",\n",
      "        DATUM[\"WGS_1984\",\n",
      "            SPHEROID[\"WGS84\",6378137,298.257223563,\n",
      "                AUTHORITY[\"EPSG\",\"7030\"]],\n",
      "            AUTHORITY[\"EPSG\",\"6326\"]],\n",
      "        PRIMEM[\"Greenwich\",0,\n",
      "            AUTHORITY[\"EPSG\",\"8901\"]],\n",
      "        UNIT[\"degree\",0.0174532925199433,\n",
      "            AUTHORITY[\"EPSG\",\"9122\"]],\n",
      "        AUTHORITY[\"EPSG\",\"4326\"]],\n",
      "    PROJECTION[\"Transverse_Mercator\"],\n",
      "    PARAMETER[\"latitude_of_origin\",0],\n",
      "    PARAMETER[\"central_meridian\",-105],\n",
      "    PARAMETER[\"scale_factor\",0.9996],\n",
      "    PARAMETER[\"false_easting\",500000],\n",
      "    PARAMETER[\"false_northing\",0],\n",
      "    UNIT[\"metre\",1,\n",
      "        AUTHORITY[\"EPSG\",\"9001\"]],\n",
      "    AXIS[\"Easting\",EAST],\n",
      "    AXIS[\"Northing\",NORTH],\n",
      "    AUTHORITY[\"EPSG\",\"32613\"]]\n"
     ]
    }
   ],
   "source": [
    "from osgeo import gdal, osr\n",
    "\n",
    "topo = gdal.Open(d, gdal.GA_ReadOnly)\n",
    "topo\n",
    "topo1 = gdal.Open(topo.GetSubDatasets()[0][0])\n",
    "spatial_info = osr.SpatialReference()\n",
    "spatial_info.SetFromUserInput(topo1.GetProjection())\n",
    "print(spatial_info)"
   ]
  },
  {
   "cell_type": "code",
   "execution_count": 30,
   "id": "43179fd3-8cfd-4038-a857-af389d1c4819",
   "metadata": {},
   "outputs": [
    {
     "data": {
      "text/plain": [
       "'NETCDF:\"/uufs/chpc.utah.edu/common/home/u1037042/Documents/isnobal_data/toponc_ERW/topo.nc\":dem'"
      ]
     },
     "execution_count": 30,
     "metadata": {},
     "output_type": "execute_result"
    }
   ],
   "source": [
    "topo.GetSubDatasets()[0][0]"
   ]
  },
  {
   "cell_type": "code",
   "execution_count": null,
   "id": "cfdcd6ce-2752-4bd5-b6ed-5138435c41e6",
   "metadata": {},
   "outputs": [],
   "source": []
  },
  {
   "cell_type": "code",
   "execution_count": 31,
   "id": "77188663-27cc-4c28-92a4-d43604870a89",
   "metadata": {},
   "outputs": [
    {
     "ename": "AttributeError",
     "evalue": "'NoneType' object has no attribute 'ReadAsArray'",
     "output_type": "error",
     "traceback": [
      "\u001b[0;31m---------------------------------------------------------------------------\u001b[0m",
      "\u001b[0;31mAttributeError\u001b[0m                            Traceback (most recent call last)",
      "Cell \u001b[0;32mIn[31], line 5\u001b[0m\n\u001b[1;32m      3\u001b[0m \u001b[38;5;66;03m# Read the data from the first band\u001b[39;00m\n\u001b[1;32m      4\u001b[0m band \u001b[38;5;241m=\u001b[39m topo\u001b[38;5;241m.\u001b[39mGetRasterBand(\u001b[38;5;241m1\u001b[39m)\n\u001b[0;32m----> 5\u001b[0m data \u001b[38;5;241m=\u001b[39m \u001b[43mband\u001b[49m\u001b[38;5;241;43m.\u001b[39;49m\u001b[43mReadAsArray\u001b[49m()\n\u001b[1;32m      7\u001b[0m \u001b[38;5;66;03m# Get the geotransform information\u001b[39;00m\n\u001b[1;32m      8\u001b[0m geotransform \u001b[38;5;241m=\u001b[39m dataset\u001b[38;5;241m.\u001b[39mGetGeoTransform()\n",
      "\u001b[0;31mAttributeError\u001b[0m: 'NoneType' object has no attribute 'ReadAsArray'"
     ]
    }
   ],
   "source": [
    "import matplotlib.pyplot as plt\n",
    "\n",
    "# Read the data from the first band\n",
    "band = topo.GetRasterBand(1)\n",
    "data = band.ReadAsArray()\n",
    "\n",
    "# Get the geotransform information\n",
    "geotransform = dataset.GetGeoTransform()\n",
    "\n",
    "# Plot the data\n",
    "plt.imshow(data, cmap='gray', extent=[geotransform[0], geotransform[0] + geotransform[1] * dataset.RasterXSize,\n",
    "                                      geotransform[3] + geotransform[5] * dataset.RasterYSize, geotransform[3]])\n",
    "plt.colorbar()\n",
    "plt.show()"
   ]
  },
  {
   "cell_type": "code",
   "execution_count": 6,
   "id": "24849a93-3b8b-4876-9757-655d3e39c74b",
   "metadata": {},
   "outputs": [
    {
     "data": {
      "text/plain": [
       "array([[-2.73652928, -2.79604171, -2.85587642, ..., -0.84490253,\n",
       "        -0.63469711, -0.43706469],\n",
       "       [-2.69165103, -2.73499419, -2.72629128, ..., -0.78058564,\n",
       "        -0.59749334, -0.45362811],\n",
       "       [-2.68693277, -2.70487365, -2.68697147, ..., -0.68087641,\n",
       "        -0.54327488, -0.45717282],\n",
       "       ...,\n",
       "       [ 1.07246867,  1.34093627,  1.92621463, ..., -1.1921587 ,\n",
       "        -1.13792451, -0.96171175],\n",
       "       [ 2.17664733,  2.72095866,  3.04457777, ..., -0.94476781,\n",
       "        -0.82847187, -0.74199255],\n",
       "       [ 3.01085864, -3.10323223, -3.09550217, ..., -0.57111981,\n",
       "        -0.67991387, -0.76024493]])"
      ]
     },
     "execution_count": 6,
     "metadata": {},
     "output_type": "execute_result"
    }
   ],
   "source": [
    "xd2.aspect"
   ]
  },
  {
   "cell_type": "code",
   "execution_count": null,
   "id": "5af8af44-531a-45e4-a493-358777d5363f",
   "metadata": {},
   "outputs": [],
   "source": [
    "# RERUN TOPOCALC \n",
    "# downscale a few scenes\n"
   ]
  },
  {
   "cell_type": "code",
   "execution_count": null,
   "id": "f7e2b46c-e587-4ffd-86ff-6ad76c98103a",
   "metadata": {},
   "outputs": [],
   "source": [
    "# is this shortwave simulation or cloudcover\n",
    "# find day of clearsky\n",
    "# find day with cloudcover\n",
    "# splotchy detail may be cloud cover"
   ]
  },
  {
   "cell_type": "code",
   "execution_count": 12,
   "id": "9c2b9228-60fe-4238-b3c4-416549be86be",
   "metadata": {},
   "outputs": [],
   "source": [
    "# for HRRR\n",
    "# Convert HRRR grib into numpy array (Gdal) - done\n",
    "# warp HRRR again (for each)\n",
    "\n",
    "# FOR Illumination - COS of incidence angle?\n",
    "# run topo calc for day\n",
    "# grab corresponding hour\n",
    "# produce illumination intensity\n",
    "# simple numpy HRRR * intensity\n",
    "\n",
    "# Brent wilder - added self shading?\n",
    "# COULD ADD new self shading - update topocalc\n",
    "# look into "
   ]
  },
  {
   "cell_type": "code",
   "execution_count": 32,
   "id": "f460549a-01bb-44a0-b176-fb5eb608caf3",
   "metadata": {},
   "outputs": [],
   "source": [
    "from snobedo.shortwave import TopoShade\n",
    "import numpy as np\n",
    "from datetime import datetime\n",
    "# topo shade for a day.py"
   ]
  },
  {
   "cell_type": "code",
   "execution_count": 33,
   "id": "ddb303c7-6eb0-4e51-a053-f55d82a5a8e8",
   "metadata": {},
   "outputs": [],
   "source": [
    "def time_range_for(start, end):\n",
    "    time_range = np.arange(\n",
    "        start,\n",
    "        end,\n",
    "        np.timedelta64(1, 'h'),\n",
    "        dtype='datetime64[s]'\n",
    "    )\n",
    "    return [datetime.fromisoformat(str(r)) for r in time_range]"
   ]
  },
  {
   "cell_type": "code",
   "execution_count": 35,
   "id": "ce7ad187-0ae2-485b-96e2-709ddd1d1610",
   "metadata": {},
   "outputs": [],
   "source": [
    "topo_shade = TopoShade(\n",
    "        \"/uufs/chpc.utah.edu/common/home/u1037042/Documents/isnobal_data/toponc_ERW/topo.nc\",\n",
    "    \"skyfield\" \n",
    "    )\n",
    "# \"/uufs/chpc.utah.edu/common/home/skiles-group1/jmeyer/project-data/iSnobal/ERW/topo/basin_setup/topo.nc\"\n",
    "# eith er give path or file for topo.nc"
   ]
  },
  {
   "cell_type": "code",
   "execution_count": 36,
   "id": "c695d08e-88a6-4f24-aa8c-5e6b48a4c6a3",
   "metadata": {},
   "outputs": [],
   "source": [
    "# topo_shade.calculate(\n",
    "#         time_range_for(arguments.start_date, arguments.end_date)\n",
    "#     )\n",
    "#\n",
    "\n",
    "topo_shade.calculate(\n",
    "        time_range_for(\"2022-04-01\", \"2022-04-02\") # day 1 and next day\n",
    "    )\n",
    "\n",
    "# "
   ]
  },
  {
   "cell_type": "code",
   "execution_count": 37,
   "id": "10f07197-ebe5-4ce4-9860-021099381ba1",
   "metadata": {},
   "outputs": [
    {
     "data": {
      "text/plain": [
       "{datetime.datetime(2022, 4, 1, 6, 0, tzinfo=<UTC>): 0,\n",
       " datetime.datetime(2022, 4, 1, 7, 0, tzinfo=<UTC>): 0,\n",
       " datetime.datetime(2022, 4, 1, 8, 0, tzinfo=<UTC>): 0,\n",
       " datetime.datetime(2022, 4, 1, 9, 0, tzinfo=<UTC>): 0,\n",
       " datetime.datetime(2022, 4, 1, 10, 0, tzinfo=<UTC>): 0,\n",
       " datetime.datetime(2022, 4, 1, 11, 0, tzinfo=<UTC>): 0,\n",
       " datetime.datetime(2022, 4, 1, 12, 0, tzinfo=<UTC>): 0,\n",
       " datetime.datetime(2022, 4, 1, 13, 0, tzinfo=<UTC>): array([[0.        , 0.        , 0.        , ..., 0.        , 0.        ,\n",
       "         0.03940631],\n",
       "        [0.        , 0.        , 0.        , ..., 0.        , 0.        ,\n",
       "         0.02582573],\n",
       "        [0.        , 0.        , 0.        , ..., 0.        , 0.        ,\n",
       "         0.00664614],\n",
       "        ...,\n",
       "        [0.4602099 , 0.41036789, 0.29333559, ..., 0.        , 0.        ,\n",
       "         0.        ],\n",
       "        [0.34079223, 0.25481624, 0.15060628, ..., 0.        , 0.        ,\n",
       "         0.        ],\n",
       "        [0.15932026, 0.08457125, 0.07423321, ..., 0.        , 0.        ,\n",
       "         0.        ]]),\n",
       " datetime.datetime(2022, 4, 1, 14, 0, tzinfo=<UTC>): array([[0.        , 0.00372524, 0.        , ..., 0.1541334 , 0.21858884,\n",
       "         0.26293771],\n",
       "        [0.        , 0.        , 0.        , ..., 0.15430413, 0.21385116,\n",
       "         0.25241789],\n",
       "        [0.        , 0.        , 0.        , ..., 0.16081053, 0.20726974,\n",
       "         0.23809505],\n",
       "        ...,\n",
       "        [0.65250097, 0.59331632, 0.46704336, ..., 0.        , 0.0036782 ,\n",
       "         0.05842174],\n",
       "        [0.49282858, 0.38019956, 0.25287774, ..., 0.05463724, 0.04956882,\n",
       "         0.08832421],\n",
       "        [0.27915445, 0.17434085, 0.14703309, ..., 0.19693849, 0.08822745,\n",
       "         0.05509536]]),\n",
       " datetime.datetime(2022, 4, 1, 15, 0, tzinfo=<UTC>): array([[0.09438046, 0.09952896, 0.0673124 , ..., 0.37443718, 0.43259481,\n",
       "         0.47131952],\n",
       "        [0.03333124, 0.        , 0.        , ..., 0.37752686, 0.43120025,\n",
       "         0.46447516],\n",
       "        [0.        , 0.        , 0.        , ..., 0.38770198, 0.42983877,\n",
       "         0.45580508],\n",
       "        ...,\n",
       "        [0.80262876, 0.73881313, 0.61262129, ..., 0.21989511, 0.23302026,\n",
       "         0.28967779],\n",
       "        [0.61530451, 0.48432894, 0.34297206, ..., 0.28728561, 0.28906028,\n",
       "         0.32638696],\n",
       "        [0.38482238, 0.25743606, 0.21514536, ..., 0.42084427, 0.32984049,\n",
       "         0.29750581]]),\n",
       " datetime.datetime(2022, 4, 1, 16, 0, tzinfo=<UTC>): array([[0.19803527, 0.1937337 , 0.14348959, ..., 0.57189519, 0.6198402 ,\n",
       "         0.65035452],\n",
       "        [0.13553366, 0.07603516, 0.        , ..., 0.57757019, 0.62176429,\n",
       "         0.64754936],\n",
       "        [0.        , 0.        , 0.        , ..., 0.5905329 , 0.62550867,\n",
       "         0.64494201],\n",
       "        ...,\n",
       "        [0.90036677, 0.83694976, 0.7201575 , ..., 0.43537619, 0.44907066,\n",
       "         0.50361842],\n",
       "        [0.69988434, 0.5601215 , 0.41476438, ..., 0.50272402, 0.51087741,\n",
       "         0.54421233],\n",
       "        [0.46913682, 0.32820962, 0.27394465, ..., 0.61844147, 0.55076061,\n",
       "         0.52147627]]),\n",
       " datetime.datetime(2022, 4, 1, 17, 0, tzinfo=<UTC>): array([[0.29330834, 0.27993438, 0.21523619, ..., 0.73305463, 0.76756877,\n",
       "         0.7878465 ],\n",
       "        [0.2336447 , 0.16311638, 0.05702145, ..., 0.74080463, 0.77256038,\n",
       "         0.78916852],\n",
       "        [0.07518839, 0.00303274, 0.        , ..., 0.75548314, 0.78094773,\n",
       "         0.7926199 ],\n",
       "        ...,\n",
       "        [0.93906064, 0.88104685, 0.78233397, ..., 0.62385184, 0.63710841,\n",
       "         0.68566604],\n",
       "        [0.74081633, 0.60242649, 0.46337778, ..., 0.68627258, 0.69990424,\n",
       "         0.72695652],\n",
       "        [0.52636649, 0.38185439, 0.31944058, ..., 0.77626687, 0.73593226,\n",
       "         0.71174335]]),\n",
       " datetime.datetime(2022, 4, 1, 18, 0, tzinfo=<UTC>): array([[0.3737216 , 0.35227174, 0.27767883, ..., 0.84693789, 0.86571891,\n",
       "         0.87443204],\n",
       "        [0.32099276, 0.24436565, 0.13926698, ..., 0.85611071, 0.87331736,\n",
       "         0.87968748],\n",
       "        [0.1644821 , 0.08876316, 0.02855026, ..., 0.87131562, 0.88556754,\n",
       "         0.88877988],\n",
       "        ...,\n",
       "        [0.91608207, 0.86810986, 0.79492566, ..., 0.77248167, 0.78432275,\n",
       "         0.8234179 ],\n",
       "        [0.73532496, 0.60837661, 0.48551587, ..., 0.82542599, 0.84326082,\n",
       "         0.86216795],\n",
       "        [0.55262698, 0.41473126, 0.34854992, ..., 0.88356926, 0.87273763,\n",
       "         0.85534192]]),\n",
       " datetime.datetime(2022, 4, 1, 19, 0, tzinfo=<UTC>): array([[0.43381038, 0.405832  , 0.32657868, ..., 0.90579126, 0.90760986,\n",
       "         0.9042191 ],\n",
       "        [0.39164027, 0.31426146, 0.21736469, ..., 0.91563731, 0.91717634,\n",
       "         0.91294567],\n",
       "        [0.24785105, 0.1737613 , 0.12040414, ..., 0.93014273, 0.93224515,\n",
       "         0.92687617],\n",
       "        ...,\n",
       "        [0.83300807, 0.7990333 , 0.75708865, ..., 0.87114259, 0.88068689,\n",
       "         0.90749192],\n",
       "        [0.68380024, 0.57758353, 0.4796876 , ..., 0.91070644, 0.93118165,\n",
       "         0.94063646],\n",
       "        [0.54614567, 0.42461728, 0.35930687, ..., 0.93304274, 0.95185716,\n",
       "         0.94248935]]),\n",
       " datetime.datetime(2022, 4, 1, 20, 0, tzinfo=<UTC>): array([[0.46949606, 0.43698187, 0.35862047, ..., 0.90561366, 0.89039731,\n",
       "         0.87518883],\n",
       "        [0.44078865, 0.36805667, 0.28600805, ..., 0.91533706, 0.90115844,\n",
       "         0.88668724],\n",
       "        [0.31962917, 0.25224987, 0.20934087, ..., 0.92796424, 0.91780887,\n",
       "         0.90432246],\n",
       "        ...,\n",
       "        [0.69551339, 0.67853969, 0.6714177 , ..., 0.91311911, 0.91964174,\n",
       "         0.93216656],\n",
       "        [0.58977109, 0.51216441, 0.44630893, ..., 0.93630993, 0.95768161,\n",
       "         0.9570214 ],\n",
       "        [0.50738259, 0.41085729, 0.35099709, ..., 0.92132486, 0.96790511,\n",
       "         0.96725266]]),\n",
       " datetime.datetime(2022, 4, 1, 21, 0, tzinfo=<UTC>): array([[0.47836423, 0.44361638, 0.37163864, ..., 0.84642942, 0.8152672 ,\n",
       "         0.78933309],\n",
       "        [0.46510555, 0.40210221, 0.34053541, ..., 0.85524228, 0.8263678 ,\n",
       "         0.80271476],\n",
       "        [0.37494104, 0.31889576, 0.28931464, ..., 0.86493993, 0.84325433,\n",
       "         0.82266818],\n",
       "        ...,\n",
       "        [0.51298331, 0.51485734, 0.54376913, ..., 0.89556129, 0.89854315,\n",
       "         0.89577087],\n",
       "        [0.45966454, 0.41659734, 0.38767442, ..., 0.90050199, 0.92096401,\n",
       "         0.91021571],\n",
       "        [0.43899897, 0.37440851, 0.32420641, ..., 0.84922588, 0.91979671,\n",
       "         0.92795298]]),\n",
       " datetime.datetime(2022, 4, 1, 22, 0, tzinfo=<UTC>): array([[0.45982922, 0.42530232, 0.36476492, ..., 0.73228632, 0.68735461,\n",
       "         0.65251836],\n",
       "        [0.46295198, 0.41409593, 0.37724798, ..., 0.73946245, 0.69791599,\n",
       "         0.66676601],\n",
       "        [0.41003428, 0.36917368, 0.35489115, ..., 0.74537844, 0.71367641,\n",
       "         0.6874925 ],\n",
       "        ...,\n",
       "        [0.29787337, 0.31915892, 0.38286119, ..., 0.81967879, 0.81884198,\n",
       "         0.80079817],\n",
       "        [0.30236722, 0.29741585, 0.30780058, ..., 0.80573571, 0.8235429 ,\n",
       "         0.80342118],\n",
       "        [0.34567561, 0.31777521, 0.28078076, ..., 0.72167316, 0.81082185,\n",
       "         0.8272798 ]]),\n",
       " datetime.datetime(2022, 4, 1, 23, 0, tzinfo=<UTC>): array([[0.4151739 , 0.38330759, 0.33848739, ..., 0.57097921, 0.51539323,\n",
       "         0.47408532],\n",
       "        [0.43449397, 0.40323942, 0.39366192, ..., 0.57590364, 0.5245731 ,\n",
       "         0.48812232],\n",
       "        [0.42253544, 0.39967474, 0.40161817, ..., 0.57744308, 0.53792133,\n",
       "         0.50802356],\n",
       "        ...,\n",
       "        [0.0648596 , 0.10479929, 0.19967927, ..., 0.69065805, 0.68598478,\n",
       "         0.65373566],\n",
       "        [0.12861907, 0.1627631 , 0.21215182, ..., 0.65848404, 0.67207118,\n",
       "         0.64392969],\n",
       "        [0.23379345, 0.2448377 , 0.22370019, ..., 0.54737481, 0.64842037,\n",
       "         0.67210714]]),\n",
       " datetime.datetime(2022, 4, 2, 0, 0, tzinfo=<UTC>): array([[0.34746193, 0.32051462, 0.29461714, ..., 0.37351802, 0.31111932,\n",
       "         0.26621149],\n",
       "        [0.381691  , 0.37029235, 0.3886776 , ..., 0.37572892, 0.31816924,\n",
       "         0.27897532],\n",
       "        [0.4116116 , 0.40833877, 0.42632907, ..., 0.37259472, 0.32798305,\n",
       "         0.29650871],\n",
       "        ...,\n",
       "        [0.        , 0.        , 0.00672654, ..., 0.51730816, 0.50904196,\n",
       "         0.46462162],\n",
       "        [0.        , 0.02183644, 0.10726766, ..., 0.46879798, 0.4768865 ,\n",
       "         0.44262547],\n",
       "        [0.11099829, 0.16058765, 0.15687552, ..., 0.33822545, 0.44367422,\n",
       "         0.47302435]]),\n",
       " datetime.datetime(2022, 4, 2, 1, 0, tzinfo=<UTC>): array([[0.28428479, 0.26231232, 0.25194039, ..., 0.20973392, 0.1450369 ,\n",
       "         0.09946924],\n",
       "        [0.32823351, 0.33239523, 0.3710582 , ..., 0.20971682, 0.15008368,\n",
       "         0.11063037],\n",
       "        [0.38844663, 0.40010494, 0.42935209, ..., 0.20307357, 0.15665235,\n",
       "         0.12546868],\n",
       "        ...,\n",
       "        [0.        , 0.        , 0.        , ..., 0.36522972, 0.35457695,\n",
       "         0.30286869],\n",
       "        [0.        , 0.        , 0.02684617, ..., 0.30638723, 0.309735  ,\n",
       "         0.27238796],\n",
       "        [0.01677487, 0.09342464, 0.10309813, ..., 0.16701396, 0.27064597,\n",
       "         0.30297938]]),\n",
       " datetime.datetime(2022, 4, 2, 2, 0, tzinfo=<UTC>): 0,\n",
       " datetime.datetime(2022, 4, 2, 3, 0, tzinfo=<UTC>): 0,\n",
       " datetime.datetime(2022, 4, 2, 4, 0, tzinfo=<UTC>): 0,\n",
       " datetime.datetime(2022, 4, 2, 5, 0, tzinfo=<UTC>): 0}"
      ]
     },
     "execution_count": 37,
     "metadata": {},
     "output_type": "execute_result"
    }
   ],
   "source": [
    "topo_shade.illumination_angles\n",
    "# UTC time\n",
    "# NEVER CALL SAVE"
   ]
  },
  {
   "cell_type": "code",
   "execution_count": null,
   "id": "f6abfb44-0c5c-4ad2-a246-01b445d2bd0f",
   "metadata": {},
   "outputs": [],
   "source": [
    "# select times \n",
    "# load corresponding grib"
   ]
  },
  {
   "cell_type": "code",
   "execution_count": null,
   "id": "f811f8f6-1c2e-4715-a0db-91a165f27688",
   "metadata": {},
   "outputs": [],
   "source": [
    "# read in original HRRR data\n",
    "hrrr_2022_base = '/uufs/chpc.utah.edu/common/home/skiles-group1/erw_isnobal/wy2022/erw_hrrr_solar/'\n",
    "\n",
    "\n",
    "# HRRR_solar_0 = xr.open_mfdataset(\n",
    "#     f'{SHARED_STORE}/erw_isnobal/{water_year}/erw_hrrr_solar/run*/net_solar.nc',\n",
    "#     parallel=True, chunks={'time': 24}, # 'y' :10, 'x': 10},\n",
    "#     drop_variables=['DSWRF', 'illumination_angle', 'zenith', 'azimuth', 'albedo_vis', 'albedo_ir'],\n",
    "# )\n",
    "\n",
    "HRRR_solar_0 = xr.open_mfdataset(\n",
    "    f'{SHARED_STORE}/erw_isnobal/2022/erw_hrrr_solar/run2022/net_solar.nc',\n",
    "    parallel=True, chunks={'time': 24}, # 'y' :10, 'x': 10},\n",
    "    drop_variables=['DSWRF', 'illumination_angle', 'zenith', 'azimuth', 'albedo_vis', 'albedo_ir'],\n",
    ")"
   ]
  },
  {
   "cell_type": "code",
   "execution_count": null,
   "id": "0616d044-ab4a-4ea7-b52f-cd41d35b6606",
   "metadata": {},
   "outputs": [],
   "source": [
    "xx = xr.open_dataset('/uufs/chpc.utah.edu/common/home/skiles-group1/HRRR_water_years/2022/hrrr.20220401/hrrr.t14z.wrfsfcf06.grib2', \n",
    "    filter_by_keys={ 'level': 0, 'stepType': 'instant', 'cfVarName': 'dswrf', 'typeOfLevel': 'surface'}, \n",
    "    engine=\"cfgrib\")"
   ]
  },
  {
   "cell_type": "code",
   "execution_count": null,
   "id": "d1269adf-a9f0-406d-8b62-0aec1ad18019",
   "metadata": {},
   "outputs": [],
   "source": [
    "# ^^^^ Don't use Xarray - need to use gdal for warping"
   ]
  }
 ],
 "metadata": {
  "kernelspec": {
   "display_name": "Python [conda env:smeshr]",
   "language": "python",
   "name": "conda-env-smeshr-py"
  },
  "language_info": {
   "codemirror_mode": {
    "name": "ipython",
    "version": 3
   },
   "file_extension": ".py",
   "mimetype": "text/x-python",
   "name": "python",
   "nbconvert_exporter": "python",
   "pygments_lexer": "ipython3",
   "version": "3.10.13"
  }
 },
 "nbformat": 4,
 "nbformat_minor": 5
}
