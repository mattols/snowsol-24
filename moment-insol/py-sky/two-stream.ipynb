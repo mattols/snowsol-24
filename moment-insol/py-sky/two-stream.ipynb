{
 "cells": [
  {
   "cell_type": "markdown",
   "id": "5eef6049-efd2-402e-a76d-72dff8ff216d",
   "metadata": {},
   "source": [
    "#### Run two stream model"
   ]
  },
  {
   "cell_type": "markdown",
   "id": "53dc5c42-87d9-49a9-9d24-3dd222aacce0",
   "metadata": {},
   "source": [
    "Smrf > envphys > solar > twostream (clearsky with zenith angle)\n",
    "https://github.com/USDA-ARS-NWRC/smrf/blob/master/smrf/envphys/solar/twostream.py\n"
   ]
  },
  {
   "cell_type": "code",
   "execution_count": 4,
   "id": "c6bf09c1-a667-4898-874a-e4d9f23c916b",
   "metadata": {},
   "outputs": [
    {
     "ename": "ModuleNotFoundError",
     "evalue": "No module named 'smrf'",
     "output_type": "error",
     "traceback": [
      "\u001b[0;31m---------------------------------------------------------------------------\u001b[0m",
      "\u001b[0;31mModuleNotFoundError\u001b[0m                       Traceback (most recent call last)",
      "Cell \u001b[0;32mIn[4], line 1\u001b[0m\n\u001b[0;32m----> 1\u001b[0m \u001b[38;5;28;01mimport\u001b[39;00m \u001b[38;5;21;01msmrf\u001b[39;00m\n",
      "\u001b[0;31mModuleNotFoundError\u001b[0m: No module named 'smrf'"
     ]
    }
   ],
   "source": []
  },
  {
   "cell_type": "code",
   "execution_count": null,
   "id": "21cf1b4f-fe83-49fa-9d7a-90286c330e6a",
   "metadata": {},
   "outputs": [],
   "source": []
  }
 ],
 "metadata": {
  "kernelspec": {
   "display_name": "Python [conda env:smrfsky]",
   "language": "python",
   "name": "conda-env-smrfsky-py"
  },
  "language_info": {
   "codemirror_mode": {
    "name": "ipython",
    "version": 3
   },
   "file_extension": ".py",
   "mimetype": "text/x-python",
   "name": "python",
   "nbconvert_exporter": "python",
   "pygments_lexer": "ipython3",
   "version": "3.11.6"
  }
 },
 "nbformat": 4,
 "nbformat_minor": 5
}
